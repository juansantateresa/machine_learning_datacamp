{
 "cells": [
  {
   "cell_type": "code",
   "execution_count": 5,
   "metadata": {},
   "outputs": [],
   "source": [
    "from scipy.stats import pearsonr \n",
    "import matplotlib.pyplot as plt\n",
    "import pandas as pd\n",
    "import numpy as np"
   ]
  },
  {
   "cell_type": "code",
   "execution_count": 9,
   "metadata": {},
   "outputs": [],
   "source": [
    "df = pd.read_csv('seeds-width-vs-length.csv')"
   ]
  },
  {
   "cell_type": "code",
   "execution_count": 11,
   "metadata": {},
   "outputs": [],
   "source": [
    "grains = df.to_numpy()"
   ]
  },
  {
   "cell_type": "code",
   "execution_count": 12,
   "metadata": {},
   "outputs": [
    {
     "data": {
      "text/plain": [
       "array([[3.333, 5.554],\n",
       "       [3.337, 5.291],\n",
       "       [3.379, 5.324],\n",
       "       [3.562, 5.658],\n",
       "       [3.312, 5.386],\n",
       "       [3.259, 5.563],\n",
       "       [3.302, 5.42 ],\n",
       "       [3.465, 6.053],\n",
       "       [3.505, 5.884],\n",
       "       [3.242, 5.714],\n",
       "       [3.201, 5.438],\n",
       "       [3.199, 5.439],\n",
       "       [3.156, 5.479],\n",
       "       [3.114, 5.482],\n",
       "       [3.333, 5.351],\n",
       "       [3.383, 5.119],\n",
       "       [3.514, 5.527],\n",
       "       [3.466, 5.205],\n",
       "       [3.049, 5.226],\n",
       "       [3.129, 5.658],\n",
       "       [3.168, 5.52 ],\n",
       "       [3.507, 5.618],\n",
       "       [2.936, 5.099],\n",
       "       [3.245, 5.789],\n",
       "       [3.421, 5.833],\n",
       "       [3.026, 5.395],\n",
       "       [2.956, 5.395],\n",
       "       [3.221, 5.541],\n",
       "       [3.065, 5.516],\n",
       "       [2.975, 5.454],\n",
       "       [3.371, 5.757],\n",
       "       [3.186, 5.717],\n",
       "       [3.15 , 5.585],\n",
       "       [3.328, 5.712],\n",
       "       [3.485, 5.709],\n",
       "       [3.464, 5.826],\n",
       "       [3.683, 5.832],\n",
       "       [3.288, 5.656],\n",
       "       [3.298, 5.397],\n",
       "       [3.156, 5.348],\n",
       "       [3.158, 5.351],\n",
       "       [3.201, 5.138],\n",
       "       [3.396, 5.877],\n",
       "       [3.462, 5.579],\n",
       "       [3.155, 5.376],\n",
       "       [3.393, 5.701],\n",
       "       [3.377, 5.57 ],\n",
       "       [3.291, 5.545],\n",
       "       [3.258, 5.678],\n",
       "       [3.272, 5.585],\n",
       "       [3.434, 5.674],\n",
       "       [3.113, 5.715],\n",
       "       [3.199, 5.504],\n",
       "       [3.113, 5.741],\n",
       "       [3.212, 5.702],\n",
       "       [3.377, 5.388],\n",
       "       [3.412, 5.384],\n",
       "       [3.419, 5.662],\n",
       "       [3.032, 5.159],\n",
       "       [2.85 , 5.008],\n",
       "       [2.879, 4.902],\n",
       "       [3.042, 5.076],\n",
       "       [3.07 , 5.395],\n",
       "       [3.026, 5.262],\n",
       "       [3.119, 5.139],\n",
       "       [3.19 , 5.63 ],\n",
       "       [3.158, 5.609],\n",
       "       [3.153, 5.569],\n",
       "       [2.882, 5.412],\n",
       "       [3.561, 6.191],\n",
       "       [3.484, 5.998],\n",
       "       [3.594, 5.978],\n",
       "       [3.93 , 6.154],\n",
       "       [3.486, 6.017],\n",
       "       [3.438, 5.927],\n",
       "       [3.403, 6.064],\n",
       "       [3.814, 6.579],\n",
       "       [3.639, 6.445],\n",
       "       [3.566, 5.85 ],\n",
       "       [3.467, 5.875],\n",
       "       [3.857, 6.006],\n",
       "       [3.864, 6.285],\n",
       "       [3.772, 6.384],\n",
       "       [3.801, 6.366],\n",
       "       [3.651, 6.173],\n",
       "       [3.764, 6.084],\n",
       "       [3.67 , 6.549],\n",
       "       [4.033, 6.573],\n",
       "       [4.032, 6.45 ],\n",
       "       [3.785, 6.581],\n",
       "       [3.796, 6.172],\n",
       "       [3.693, 6.272],\n",
       "       [3.86 , 6.037],\n",
       "       [3.485, 6.666],\n",
       "       [3.463, 6.139],\n",
       "       [3.81 , 6.341],\n",
       "       [3.552, 6.449],\n",
       "       [3.512, 6.271],\n",
       "       [3.684, 6.219],\n",
       "       [3.525, 5.718],\n",
       "       [3.694, 5.89 ],\n",
       "       [3.892, 6.113],\n",
       "       [3.681, 6.369],\n",
       "       [3.755, 6.248],\n",
       "       [3.786, 6.037],\n",
       "       [3.806, 6.152],\n",
       "       [3.573, 6.033],\n",
       "       [3.763, 6.675],\n",
       "       [3.674, 6.153],\n",
       "       [3.769, 6.107],\n",
       "       [3.791, 6.303],\n",
       "       [3.902, 6.183],\n",
       "       [3.737, 6.259],\n",
       "       [3.991, 6.563],\n",
       "       [3.719, 6.416],\n",
       "       [3.897, 6.051],\n",
       "       [3.815, 6.245],\n",
       "       [3.769, 6.227],\n",
       "       [3.857, 6.493],\n",
       "       [3.962, 6.315],\n",
       "       [3.563, 6.059],\n",
       "       [3.387, 5.762],\n",
       "       [3.771, 5.98 ],\n",
       "       [3.582, 5.363],\n",
       "       [3.869, 6.111],\n",
       "       [3.594, 6.285],\n",
       "       [3.687, 5.979],\n",
       "       [3.773, 6.513],\n",
       "       [3.69 , 5.791],\n",
       "       [3.755, 5.979],\n",
       "       [3.825, 6.144],\n",
       "       [3.268, 5.884],\n",
       "       [3.395, 5.845],\n",
       "       [3.408, 5.776],\n",
       "       [3.465, 5.477],\n",
       "       [3.574, 6.145],\n",
       "       [3.231, 5.92 ],\n",
       "       [3.286, 5.832],\n",
       "       [3.472, 5.872],\n",
       "       [2.994, 5.472],\n",
       "       [3.073, 5.541],\n",
       "       [3.074, 5.389],\n",
       "       [2.967, 5.224],\n",
       "       [2.777, 5.314],\n",
       "       [2.687, 5.279],\n",
       "       [2.719, 5.176],\n",
       "       [2.967, 5.267],\n",
       "       [2.911, 5.386],\n",
       "       [2.648, 5.317],\n",
       "       [2.84 , 5.263],\n",
       "       [2.776, 5.405],\n",
       "       [2.833, 5.408],\n",
       "       [2.693, 5.22 ],\n",
       "       [2.755, 5.175],\n",
       "       [2.675, 5.25 ],\n",
       "       [2.849, 5.053],\n",
       "       [2.745, 5.394],\n",
       "       [2.678, 5.444],\n",
       "       [2.695, 5.304],\n",
       "       [2.879, 5.451],\n",
       "       [2.81 , 5.35 ],\n",
       "       [2.847, 5.267],\n",
       "       [2.968, 5.333],\n",
       "       [2.794, 5.011],\n",
       "       [2.941, 5.105],\n",
       "       [2.897, 5.319],\n",
       "       [2.837, 5.417],\n",
       "       [2.668, 5.176],\n",
       "       [2.715, 5.09 ],\n",
       "       [2.701, 5.325],\n",
       "       [2.845, 5.167],\n",
       "       [2.763, 5.088],\n",
       "       [2.763, 5.136],\n",
       "       [2.641, 5.278],\n",
       "       [2.821, 4.981],\n",
       "       [2.71 , 5.186],\n",
       "       [2.642, 5.145],\n",
       "       [2.758, 5.18 ],\n",
       "       [2.893, 5.357],\n",
       "       [2.775, 5.09 ],\n",
       "       [3.017, 5.236],\n",
       "       [2.909, 5.24 ],\n",
       "       [2.85 , 5.108],\n",
       "       [3.026, 5.495],\n",
       "       [2.683, 5.363],\n",
       "       [2.716, 5.413],\n",
       "       [2.675, 5.088],\n",
       "       [2.821, 5.089],\n",
       "       [2.787, 4.899],\n",
       "       [2.717, 5.046],\n",
       "       [2.804, 5.091],\n",
       "       [2.953, 5.132],\n",
       "       [2.63 , 5.18 ],\n",
       "       [2.975, 5.236],\n",
       "       [3.126, 5.16 ],\n",
       "       [3.054, 5.224],\n",
       "       [3.128, 5.32 ],\n",
       "       [2.911, 5.41 ],\n",
       "       [3.155, 5.073],\n",
       "       [2.989, 5.219],\n",
       "       [3.135, 4.984],\n",
       "       [2.81 , 5.009],\n",
       "       [3.091, 5.183],\n",
       "       [2.96 , 5.204],\n",
       "       [2.981, 5.137],\n",
       "       [2.795, 5.14 ],\n",
       "       [3.232, 5.236],\n",
       "       [2.836, 5.175],\n",
       "       [2.974, 5.243]])"
      ]
     },
     "execution_count": 12,
     "metadata": {},
     "output_type": "execute_result"
    }
   ],
   "source": [
    "grains"
   ]
  },
  {
   "cell_type": "code",
   "execution_count": 14,
   "metadata": {},
   "outputs": [],
   "source": [
    "width = grains[:,0]"
   ]
  },
  {
   "cell_type": "code",
   "execution_count": 15,
   "metadata": {},
   "outputs": [],
   "source": [
    "lenght = grains[:,1]"
   ]
  },
  {
   "cell_type": "code",
   "execution_count": 16,
   "metadata": {},
   "outputs": [
    {
     "data": {
      "text/plain": [
       "(2.549993369175627, 4.113006630824374, 4.795023399558499, 6.778976600441501)"
      ]
     },
     "execution_count": 16,
     "metadata": {},
     "output_type": "execute_result"
    },
    {
     "data": {
      "image/png": "[encoded data removed]",
      "text/plain": [
       "<Figure size 432x288 with 1 Axes>"
      ]
     },
     "metadata": {
      "needs_background": "light"
     },
     "output_type": "display_data"
    }
   ],
   "source": [
    "plt.scatter(width, lenght)\n",
    "plt.axis('equal')"
   ]
  },
  {
   "cell_type": "code",
   "execution_count": 17,
   "metadata": {},
   "outputs": [],
   "source": [
    "correlation, pvalue = (width, lenght)"
   ]
  },
  {
   "cell_type": "code",
   "execution_count": 18,
   "metadata": {},
   "outputs": [
    {
     "name": "stdout",
     "output_type": "stream",
     "text": [
      "[3.333 3.337 3.379 3.562 3.312 3.259 3.302 3.465 3.505 3.242 3.201 3.199\n",
      " 3.156 3.114 3.333 3.383 3.514 3.466 3.049 3.129 3.168 3.507 2.936 3.245\n",
      " 3.421 3.026 2.956 3.221 3.065 2.975 3.371 3.186 3.15  3.328 3.485 3.464\n",
      " 3.683 3.288 3.298 3.156 3.158 3.201 3.396 3.462 3.155 3.393 3.377 3.291\n",
      " 3.258 3.272 3.434 3.113 3.199 3.113 3.212 3.377 3.412 3.419 3.032 2.85\n",
      " 2.879 3.042 3.07  3.026 3.119 3.19  3.158 3.153 2.882 3.561 3.484 3.594\n",
      " 3.93  3.486 3.438 3.403 3.814 3.639 3.566 3.467 3.857 3.864 3.772 3.801\n",
      " 3.651 3.764 3.67  4.033 4.032 3.785 3.796 3.693 3.86  3.485 3.463 3.81\n",
      " 3.552 3.512 3.684 3.525 3.694 3.892 3.681 3.755 3.786 3.806 3.573 3.763\n",
      " 3.674 3.769 3.791 3.902 3.737 3.991 3.719 3.897 3.815 3.769 3.857 3.962\n",
      " 3.563 3.387 3.771 3.582 3.869 3.594 3.687 3.773 3.69  3.755 3.825 3.268\n",
      " 3.395 3.408 3.465 3.574 3.231 3.286 3.472 2.994 3.073 3.074 2.967 2.777\n",
      " 2.687 2.719 2.967 2.911 2.648 2.84  2.776 2.833 2.693 2.755 2.675 2.849\n",
      " 2.745 2.678 2.695 2.879 2.81  2.847 2.968 2.794 2.941 2.897 2.837 2.668\n",
      " 2.715 2.701 2.845 2.763 2.763 2.641 2.821 2.71  2.642 2.758 2.893 2.775\n",
      " 3.017 2.909 2.85  3.026 2.683 2.716 2.675 2.821 2.787 2.717 2.804 2.953\n",
      " 2.63  2.975 3.126 3.054 3.128 2.911 3.155 2.989 3.135 2.81  3.091 2.96\n",
      " 2.981 2.795 3.232 2.836 2.974]\n"
     ]
    }
   ],
   "source": [
    "print(correlation)"
   ]
  },
  {
   "cell_type": "code",
   "execution_count": null,
   "metadata": {},
   "outputs": [],
   "source": []
  }
 ],
 "metadata": {
  "kernelspec": {
   "display_name": "Python 3",
   "language": "python",
   "name": "python3"
  },
  "language_info": {
   "codemirror_mode": {
    "name": "ipython",
    "version": 3
   },
   "file_extension": ".py",
   "mimetype": "text/x-python",
   "name": "python",
   "nbconvert_exporter": "python",
   "pygments_lexer": "ipython3",
   "version": "3.7.4"
  }
 },
 "nbformat": 4,
 "nbformat_minor": 2
}
