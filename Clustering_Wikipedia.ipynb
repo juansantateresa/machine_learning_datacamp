{
 "cells": [
  {
   "cell_type": "code",
   "execution_count": 1,
   "metadata": {},
   "outputs": [],
   "source": [
    "import pandas as pd\n",
    "import numpy as np\n",
    "import matplotlib.pyplot as plt\n",
    "from sklearn.decomposition import TruncatedSVD\n",
    "from sklearn.cluster import KMeans\n",
    "from sklearn.pipeline import make_pipeline"
   ]
  },
  {
   "cell_type": "markdown",
   "metadata": {},
   "source": [
    "Setting up pipeline"
   ]
  },
  {
   "cell_type": "code",
   "execution_count": 2,
   "metadata": {},
   "outputs": [],
   "source": [
    "svd = TruncatedSVD(n_components=50)\n",
    "kmeans = KMeans(n_clusters=6)\n"
   ]
  },
  {
   "cell_type": "code",
   "execution_count": 3,
   "metadata": {},
   "outputs": [],
   "source": [
    "pipeline = make_pipeline(svd, kmeans)"
   ]
  },
  {
   "cell_type": "code",
   "execution_count": 8,
   "metadata": {},
   "outputs": [],
   "source": [
    "df_1 = pd.read_csv('wikipedia-vectors.csv')\n"
   ]
  },
  {
   "cell_type": "code",
   "execution_count": 9,
   "metadata": {},
   "outputs": [],
   "source": [
    "df_2 = pd.read_csv('wikipedia-vocabulary-utf8.txt')\n"
   ]
  },
  {
   "cell_type": "code",
   "execution_count": 18,
   "metadata": {},
   "outputs": [],
   "source": [
    "titles = df_1.columns"
   ]
  },
  {
   "cell_type": "code",
   "execution_count": 24,
   "metadata": {},
   "outputs": [
    {
     "data": {
      "text/plain": [
       "(61,)"
      ]
     },
     "execution_count": 24,
     "metadata": {},
     "output_type": "execute_result"
    }
   ],
   "source": [
    "titles.shape"
   ]
  },
  {
   "cell_type": "code",
   "execution_count": 25,
   "metadata": {},
   "outputs": [
    {
     "data": {
      "text/plain": [
       "dtype('O')"
      ]
     },
     "execution_count": 25,
     "metadata": {},
     "output_type": "execute_result"
    }
   ],
   "source": [
    "titles.dtype"
   ]
  },
  {
   "cell_type": "code",
   "execution_count": 33,
   "metadata": {},
   "outputs": [],
   "source": [
    "remove_item = ['Unnamed: 0']"
   ]
  },
  {
   "cell_type": "code",
   "execution_count": 38,
   "metadata": {},
   "outputs": [],
   "source": [
    "titles_def = np.setdiff1d(titles_arr,remove_item)"
   ]
  },
  {
   "cell_type": "code",
   "execution_count": 40,
   "metadata": {},
   "outputs": [
    {
     "data": {
      "text/plain": [
       "array(['Unnamed: 0', 'HTTP 404', 'Alexa Internet', 'Internet Explorer',\n",
       "       'HTTP cookie', 'Google Search', 'Tumblr',\n",
       "       'Hypertext Transfer Protocol', 'Social search', 'Firefox',\n",
       "       'LinkedIn', 'Global warming',\n",
       "       'Nationally Appropriate Mitigation Action', 'Nigel Lawson',\n",
       "       'Connie Hedegaard', 'Climate change', 'Kyoto Protocol', '350.org',\n",
       "       'Greenhouse gas emissions by the United States',\n",
       "       '2010 United Nations Climate Change Conference',\n",
       "       '2007 United Nations Climate Change Conference', 'Angelina Jolie',\n",
       "       'Michael Fassbender', 'Denzel Washington', 'Catherine Zeta-Jones',\n",
       "       'Jessica Biel', 'Russell Crowe', 'Mila Kunis', 'Dakota Fanning',\n",
       "       'Anne Hathaway', 'Jennifer Aniston',\n",
       "       'France national football team', 'Cristiano Ronaldo',\n",
       "       'Arsenal F.C.', 'Radamel Falcao', 'Zlatan Ibrahimović',\n",
       "       'Colombia national football team',\n",
       "       '2014 FIFA World Cup qualification', 'Football', 'Neymar',\n",
       "       'Franck Ribéry', 'Tonsillitis', 'Hepatitis B', 'Doxycycline',\n",
       "       'Leukemia', 'Gout', 'Hepatitis C', 'Prednisone', 'Fever',\n",
       "       'Gabapentin', 'Lymphoma', 'Chad Kroeger', 'Nate Ruess',\n",
       "       'The Wanted', 'Stevie Nicks', 'Arctic Monkeys', 'Black Sabbath',\n",
       "       'Skrillex', 'Red Hot Chili Peppers', 'Sepsis', 'Adam Levine'],\n",
       "      dtype=object)"
      ]
     },
     "execution_count": 40,
     "metadata": {},
     "output_type": "execute_result"
    }
   ],
   "source": [
    "titles_arr"
   ]
  },
  {
   "cell_type": "code",
   "execution_count": 41,
   "metadata": {},
   "outputs": [
    {
     "data": {
      "text/plain": [
       "array(['2007 United Nations Climate Change Conference',\n",
       "       '2010 United Nations Climate Change Conference',\n",
       "       '2014 FIFA World Cup qualification', '350.org', 'Adam Levine',\n",
       "       'Alexa Internet', 'Angelina Jolie', 'Anne Hathaway',\n",
       "       'Arctic Monkeys', 'Arsenal F.C.', 'Black Sabbath',\n",
       "       'Catherine Zeta-Jones', 'Chad Kroeger', 'Climate change',\n",
       "       'Colombia national football team', 'Connie Hedegaard',\n",
       "       'Cristiano Ronaldo', 'Dakota Fanning', 'Denzel Washington',\n",
       "       'Doxycycline', 'Fever', 'Firefox', 'Football',\n",
       "       'France national football team', 'Franck Ribéry', 'Gabapentin',\n",
       "       'Global warming', 'Google Search', 'Gout',\n",
       "       'Greenhouse gas emissions by the United States', 'HTTP 404',\n",
       "       'HTTP cookie', 'Hepatitis B', 'Hepatitis C',\n",
       "       'Hypertext Transfer Protocol', 'Internet Explorer',\n",
       "       'Jennifer Aniston', 'Jessica Biel', 'Kyoto Protocol', 'Leukemia',\n",
       "       'LinkedIn', 'Lymphoma', 'Michael Fassbender', 'Mila Kunis',\n",
       "       'Nate Ruess', 'Nationally Appropriate Mitigation Action', 'Neymar',\n",
       "       'Nigel Lawson', 'Prednisone', 'Radamel Falcao',\n",
       "       'Red Hot Chili Peppers', 'Russell Crowe', 'Sepsis', 'Skrillex',\n",
       "       'Social search', 'Stevie Nicks', 'The Wanted', 'Tonsillitis',\n",
       "       'Tumblr', 'Zlatan Ibrahimović'], dtype=object)"
      ]
     },
     "execution_count": 41,
     "metadata": {},
     "output_type": "execute_result"
    }
   ],
   "source": [
    "titles_def"
   ]
  },
  {
   "cell_type": "code",
   "execution_count": null,
   "metadata": {},
   "outputs": [],
   "source": []
  }
 ],
 "metadata": {
  "kernelspec": {
   "display_name": "Python 3",
   "language": "python",
   "name": "python3"
  },
  "language_info": {
   "codemirror_mode": {
    "name": "ipython",
    "version": 3
   },
   "file_extension": ".py",
   "mimetype": "text/x-python",
   "name": "python",
   "nbconvert_exporter": "python",
   "pygments_lexer": "ipython3",
   "version": "3.7.4"
  }
 },
 "nbformat": 4,
 "nbformat_minor": 2
}
